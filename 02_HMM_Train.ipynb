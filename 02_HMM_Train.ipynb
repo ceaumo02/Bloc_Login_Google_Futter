{
  "nbformat": 4,
  "nbformat_minor": 0,
  "metadata": {
    "colab": {
      "name": "02 - HMM Train.ipynb",
      "provenance": [],
      "authorship_tag": "ABX9TyOpsU7xSWy/nMJUpu1dRX0U",
      "include_colab_link": true
    },
    "kernelspec": {
      "name": "python3",
      "display_name": "Python 3"
    },
    "language_info": {
      "name": "python"
    }
  },
  "cells": [
    {
      "cell_type": "markdown",
      "metadata": {
        "id": "view-in-github",
        "colab_type": "text"
      },
      "source": [
        "<a href=\"https://colab.research.google.com/github/ceaumo02/Bloc_Login_Google_Futter/blob/master/02_HMM_Train.ipynb\" target=\"_parent\"><img src=\"https://colab.research.google.com/assets/colab-badge.svg\" alt=\"Open In Colab\"/></a>"
      ]
    },
    {
      "cell_type": "markdown",
      "metadata": {
        "id": "apZTvqywabkM"
      },
      "source": [
        "**bold text**## Spanish Corpus: \n",
        "\n",
        "* AnCora | Github: https://github.com/UniversalDependencies/UD_Spanish-AnCora\n",
        "\n",
        "* Use conllu parser to read corpus: https://pypi.org/project/conllu/\n",
        "\n",
        "* Universal tags POS (Documentation): https://universaldependencies.org/u/pos/"
      ]
    },
    {
      "cell_type": "code",
      "metadata": {
        "id": "7SyjRpNdXx6l",
        "colab": {
          "base_uri": "https://localhost:8080/"
        },
        "outputId": "76313266-3efd-4a64-90cd-ff8dc2993a73"
      },
      "source": [
        "#@title Previus dependencies\n",
        "!pip install conllu\n",
        "!git clone https://github.com/UniversalDependencies/UD_Spanish-AnCora.git"
      ],
      "execution_count": 1,
      "outputs": [
        {
          "output_type": "stream",
          "text": [
            "Collecting conllu\n",
            "  Downloading https://files.pythonhosted.org/packages/ae/be/be6959c3ff2dbfdd87de4be0ccdff577835b5d08b1d25bf7fd4aaf0d7add/conllu-4.4-py2.py3-none-any.whl\n",
            "Installing collected packages: conllu\n",
            "Successfully installed conllu-4.4\n",
            "Cloning into 'UD_Spanish-AnCora'...\n",
            "remote: Enumerating objects: 653, done.\u001b[K\n",
            "remote: Counting objects: 100% (84/84), done.\u001b[K\n",
            "remote: Compressing objects: 100% (26/26), done.\u001b[K\n",
            "remote: Total 653 (delta 58), reused 84 (delta 58), pack-reused 569\u001b[K\n",
            "Receiving objects: 100% (653/653), 198.60 MiB | 27.55 MiB/s, done.\n",
            "Resolving deltas: 100% (453/453), done.\n"
          ],
          "name": "stdout"
        }
      ]
    },
    {
      "cell_type": "code",
      "metadata": {
        "id": "Dle7Rjq5teaw"
      },
      "source": [
        "# read conllu format file and show tidily\n",
        "from conllu import parse_incr\n",
        "wordList = []\n",
        "data_file =  open(\n",
        "    '/content/UD_Spanish-AnCora/es_ancora-ud-dev.conllu', 'r', encoding='utf-8')\n",
        "for tokenlist in parse_incr(data_file):\n",
        "  print(tokenlist.serialize())"
      ],
      "execution_count": null,
      "outputs": []
    },
    {
      "cell_type": "code",
      "metadata": {
        "colab": {
          "base_uri": "https://localhost:8080/"
        },
        "id": "6iBpOovMuu9e",
        "outputId": "40233eff-9a35-436f-fbcb-64f6ec96a61d"
      },
      "source": [
        "#@title Understand structure of data list\n",
        "tokenlist"
      ],
      "execution_count": 5,
      "outputs": [
        {
          "output_type": "execute_result",
          "data": {
            "text/plain": [
              "TokenList<Lo, cierto, es, que, a, mí, ,, me, da, un, poco, de, pena, .>"
            ]
          },
          "metadata": {
            "tags": []
          },
          "execution_count": 5
        }
      ]
    },
    {
      "cell_type": "code",
      "metadata": {
        "colab": {
          "base_uri": "https://localhost:8080/",
          "height": 35
        },
        "id": "z2r7WdvevISx",
        "outputId": "804f60e8-7f46-4ce6-c595-dcb245cd9859"
      },
      "source": [
        "# join two columns\n",
        "tokenlist[1]['form']+'|'+tokenlist[1]['upos']"
      ],
      "execution_count": 7,
      "outputs": [
        {
          "output_type": "execute_result",
          "data": {
            "application/vnd.google.colaboratory.intrinsic+json": {
              "type": "string"
            },
            "text/plain": [
              "'cierto|ADJ'"
            ]
          },
          "metadata": {
            "tags": []
          },
          "execution_count": 7
        }
      ]
    },
    {
      "cell_type": "markdown",
      "metadata": {
        "id": "g2F4mvQqN5Tm"
      },
      "source": [
        "## Model train - Count Calculus:\n",
        "\n",
        "* tags (tags) `tagCountDict`: $C(tag)$\n",
        "* emissions (word|tag) `emissionProbDict`: $C(word|tag)$\n",
        "* transitions (tag|prevtag) `transitionDict`: $C(tag|prevtag)$"
      ]
    },
    {
      "cell_type": "code",
      "metadata": {
        "id": "8OR-AWkOvxIP"
      },
      "source": [
        "# define dictionaries\n",
        "tagCountDict = {}\n",
        "emissionDict = {}\n",
        "transitionDict = {}\n",
        "\n",
        "# read courpus\n",
        "tagtype = 'upos'\n",
        "data_file =  open(\n",
        "    '/content/UD_Spanish-AnCora/es_ancora-ud-dev.conllu', 'r', encoding='utf-8')\n",
        "\n",
        "# Read token by token\n",
        "prevtag  = None\n",
        "for tokenlist in parse_incr(data_file):\n",
        "  for token in tokenlist:\n",
        "\n",
        "    # count Tags (tag)\n",
        "    tag = token[tagtype]\n",
        "    if tag in tagCountDict.keys():\n",
        "      tagCountDict[tag] += 1\n",
        "    else:\n",
        "      tagCountDict[tag] = 1\n",
        "\n",
        "    # count emission Probabilities (word|tag)\n",
        "    wordtag  =token['form'].lower()+'|'+token[tagtype] # (word|tag)\n",
        "    if wordtag in emissionDict.keys():\n",
        "      emissionDict[wordtag] += 1\n",
        "    else:\n",
        "      emissionDict[wordtag] = 1\n",
        "\n",
        "    # Count transition probabilities (tag|previous_tag)\n",
        "    if prevtag is None:\n",
        "      prevtag = tag\n",
        "      continue\n",
        "    transitiontags = tag+'|'+prevtag\n",
        "    if transitiontags in transitionDict.keys():\n",
        "      transitionDict[transitiontags] += 1\n",
        "    else:\n",
        "      transitionDict[transitiontags] = 1\n",
        "    prevtag = tag\n",
        "\n",
        "transitionDict"
      ],
      "execution_count": null,
      "outputs": []
    },
    {
      "cell_type": "markdown",
      "metadata": {
        "id": "XIXcZxSdOO__"
      },
      "source": [
        "## Model Trainig - Probabilities calculus\n",
        "* Transition probabilities:\n",
        "$$P(tag|prevtag) = \\frac{C(prevtag, tag)}{C(prevtag)}$$\n",
        "\n",
        "* Emission probabilities:\n",
        " $$P(word|tag) = \\frac{C(word|tag)}{C(tag)}$$"
      ]
    },
    {
      "cell_type": "code",
      "metadata": {
        "id": "iEmGrjK35vfQ"
      },
      "source": [
        "transitionProbDict = {} # matrix A\n",
        "emissionProbDict = {} # matrix B\n",
        "\n",
        "# validate and train model\n",
        "# transition probabilities\n",
        "for key in transitionDict.keys():\n",
        "  tag, prevtag = key.split('|')\n",
        "  if tagCountDict[prevtag]>0:\n",
        "    transitionProbDict[key] = transitionDict[key]/tagCountDict[prevtag]\n",
        "  else:\n",
        "    print(key)\n",
        "\n",
        "# Emission Probabilities\n",
        "for key in emissionDict.keys():\n",
        "  word, tag = key.split('|')\n",
        "  if tagCountDict[tag]>0:\n",
        "    emissionProbDict[key] = emissionDict[key]/tagCountDict[tag]\n",
        "  else:\n",
        "    print(key)\n",
        "\n",
        "transitionProbDict"
      ],
      "execution_count": null,
      "outputs": []
    },
    {
      "cell_type": "code",
      "metadata": {
        "id": "vICgIgXU9ZIV"
      },
      "source": [
        "emissionProbDict"
      ],
      "execution_count": null,
      "outputs": []
    },
    {
      "cell_type": "markdown",
      "metadata": {
        "id": "OV2uCmL59qdg"
      },
      "source": [
        "## Save model parameters"
      ]
    },
    {
      "cell_type": "code",
      "metadata": {
        "id": "mCOG5JCz9h_g"
      },
      "source": [
        "import numpy as np\n",
        "np.save('transitionHMM.npy', transitionProbDict)\n",
        "np.save('emissionHMM.npy', emissionProbDict)"
      ],
      "execution_count": 15,
      "outputs": []
    },
    {
      "cell_type": "code",
      "metadata": {
        "id": "JsMcuVrU-Aa3"
      },
      "source": [
        ""
      ],
      "execution_count": null,
      "outputs": []
    }
  ]
}